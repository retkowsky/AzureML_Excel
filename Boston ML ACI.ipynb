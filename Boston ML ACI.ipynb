{
  "cells": [
    {
      "metadata": {},
      "cell_type": "markdown",
      "source": "# Azure ML service and Excel integration"
    },
    {
      "metadata": {},
      "cell_type": "markdown",
      "source": "<img src=\"https://www.allgeier.ch/wp-content/uploads/2018/04/microsoft-azure-ml.png\">"
    },
    {
      "metadata": {},
      "cell_type": "markdown",
      "source": "## 1. Informations"
    },
    {
      "metadata": {
        "trusted": true
      },
      "cell_type": "code",
      "source": "import datetime\nnow = datetime.datetime.now()\nprint(now)",
      "execution_count": 2,
      "outputs": [
        {
          "output_type": "stream",
          "text": "2019-10-31 08:54:58.850734\n",
          "name": "stdout"
        }
      ]
    },
    {
      "metadata": {
        "trusted": true
      },
      "cell_type": "code",
      "source": "import sys\nprint(\"Python version: \",sys.version)",
      "execution_count": 3,
      "outputs": [
        {
          "output_type": "stream",
          "text": "Python version:  3.6.6 |Anaconda, Inc.| (default, Jun 28 2018, 17:14:51) \n[GCC 7.2.0]\n",
          "name": "stdout"
        }
      ]
    },
    {
      "metadata": {},
      "cell_type": "markdown",
      "source": "### Installing ou upgrading Azure ML SDK"
    },
    {
      "metadata": {
        "trusted": true
      },
      "cell_type": "code",
      "source": "#!pip install azureml-sdk",
      "execution_count": 4,
      "outputs": []
    },
    {
      "metadata": {
        "trusted": true
      },
      "cell_type": "code",
      "source": "#!pip install --upgrade azureml-sdk",
      "execution_count": 5,
      "outputs": []
    },
    {
      "metadata": {},
      "cell_type": "markdown",
      "source": "## 2. Connection to the Azure ML workspace"
    },
    {
      "metadata": {
        "trusted": true
      },
      "cell_type": "code",
      "source": "# Workspace\nimport os\nsubscription_id = os.environ.get(\"SUBSCRIPTION_ID\", \"Your Azure Subscription ID\")\nresource_group = os.environ.get(\"RESOURCE_GROUP\", \"azuremlserviceRG\")\nworkspace_name = os.environ.get(\"WORKSPACE_NAME\", \"azuremlservice\")",
      "execution_count": null,
      "outputs": []
    },
    {
      "metadata": {
        "trusted": true
      },
      "cell_type": "code",
      "source": "from azureml.core import Workspace\ntry:\n   ws = Workspace(subscription_id = subscription_id, resource_group = resource_group, workspace_name = workspace_name)\n   ws.write_config()\n   print(\"OK\")\nexcept:\n   print(\"Error: Workspace not found\")",
      "execution_count": null,
      "outputs": []
    },
    {
      "metadata": {
        "trusted": true
      },
      "cell_type": "code",
      "source": "import azureml.core\nfrom azureml.core.workspace import Workspace\nimport pandas as pd\nimport sklearn\nimport matplotlib.pyplot as plt\n\nfrom sklearn.datasets import load_boston\nfrom azureml.core.model import Model\nfrom sklearn.externals import joblib\nfrom sklearn.model_selection import train_test_split\nfrom sklearn.linear_model import LinearRegression\nfrom azureml.core import Environment\nfrom azureml.core.model import InferenceConfig\n\nprint(\"Azure ML service:\", azureml.core.VERSION)",
      "execution_count": 6,
      "outputs": [
        {
          "output_type": "stream",
          "text": "Azure ML service: 1.0.69\n",
          "name": "stdout"
        }
      ]
    },
    {
      "metadata": {
        "trusted": true
      },
      "cell_type": "code",
      "source": "ws = Workspace.from_config()\nprint(ws.name, ws.resource_group, ws.location, ws.subscription_id, sep='\\n')",
      "execution_count": 7,
      "outputs": [
        {
          "output_type": "stream",
          "text": "Performing interactive authentication. Please follow the instructions on the terminal.\nTo sign in, use a web browser to open the page https://microsoft.com/devicelogin and enter the code F9MGKFEYJ to authenticate.\nInteractive authentication successfully completed.\nazuremlservice\nazuremlserviceresourcegroup\nwesteurope\n70b8f39e-8863-49f7-b6ba-34a80799550c\n",
          "name": "stdout"
        }
      ]
    },
    {
      "metadata": {},
      "cell_type": "markdown",
      "source": "## 3. ML"
    },
    {
      "metadata": {},
      "cell_type": "markdown",
      "source": "### Boston dataset example"
    },
    {
      "metadata": {},
      "cell_type": "markdown",
      "source": "Feature Descriptions\t\t\t\t\n1. CRIM - per capita crime rate by town\t\t\t\t\n2. ZN - proportion of residential land zoned for lots over 25,000 sq.ft.\t\t\t\t\n3. INDUS - proportion of non-retail business acres per town.\t\t\t\t\n4. CHAS - Charles River dummy variable (1 if tract bounds river; 0 otherwise)\t\t\t\t\n5. NOX - nitric oxides concentration (parts per 10 million)\t\t\t\t\n6. RM - average number of rooms per dwelling\t\t\t\t\n7. AGE - proportion of owner-occupied units built prior to 1940\t\t\t\t\n8. DIS - weighted distances to five Boston employment centres\t\t\t\t\n9. RAD - index of accessibility to radial highways\t\t\t\t\n10. TAX - full-value property-tax rate per $10000\t\n\n11. PTRATIO - pupil-teacher ratio by town\t\t\t\t\n12. B - 1000(Bk - 0.63)^2 where Bk is the proportion of blacks by town\t\t\t\t\n13. LSTAT - pct lower status of the population\t\t\t\t\n14. MEDV - Median value of owner-occupied homes in $1000's"
    },
    {
      "metadata": {
        "trusted": true
      },
      "cell_type": "code",
      "source": "boston = load_boston()\nbos = pd.DataFrame(boston.data)\nbos.columns = boston.feature_names\nbos['PRICE'] = boston.target",
      "execution_count": 8,
      "outputs": []
    },
    {
      "metadata": {
        "trusted": true
      },
      "cell_type": "code",
      "source": "X = bos.drop('PRICE', axis = 1)\nY = bos['PRICE']\nX_train, X_test, Y_train, Y_test = train_test_split(X, Y, test_size = 0.33, random_state = 5)",
      "execution_count": 9,
      "outputs": []
    },
    {
      "metadata": {
        "trusted": true
      },
      "cell_type": "code",
      "source": "X_train.head()",
      "execution_count": 10,
      "outputs": [
        {
          "output_type": "execute_result",
          "execution_count": 10,
          "data": {
            "text/html": "<div>\n<style scoped>\n    .dataframe tbody tr th:only-of-type {\n        vertical-align: middle;\n    }\n\n    .dataframe tbody tr th {\n        vertical-align: top;\n    }\n\n    .dataframe thead th {\n        text-align: right;\n    }\n</style>\n<table border=\"1\" class=\"dataframe\">\n  <thead>\n    <tr style=\"text-align: right;\">\n      <th></th>\n      <th>CRIM</th>\n      <th>ZN</th>\n      <th>INDUS</th>\n      <th>CHAS</th>\n      <th>NOX</th>\n      <th>RM</th>\n      <th>AGE</th>\n      <th>DIS</th>\n      <th>RAD</th>\n      <th>TAX</th>\n      <th>PTRATIO</th>\n      <th>B</th>\n      <th>LSTAT</th>\n    </tr>\n  </thead>\n  <tbody>\n    <tr>\n      <th>435</th>\n      <td>11.16040</td>\n      <td>0.0</td>\n      <td>18.10</td>\n      <td>0.0</td>\n      <td>0.740</td>\n      <td>6.629</td>\n      <td>94.6</td>\n      <td>2.1247</td>\n      <td>24.0</td>\n      <td>666.0</td>\n      <td>20.2</td>\n      <td>109.85</td>\n      <td>23.27</td>\n    </tr>\n    <tr>\n      <th>88</th>\n      <td>0.05660</td>\n      <td>0.0</td>\n      <td>3.41</td>\n      <td>0.0</td>\n      <td>0.489</td>\n      <td>7.007</td>\n      <td>86.3</td>\n      <td>3.4217</td>\n      <td>2.0</td>\n      <td>270.0</td>\n      <td>17.8</td>\n      <td>396.90</td>\n      <td>5.50</td>\n    </tr>\n    <tr>\n      <th>365</th>\n      <td>4.55587</td>\n      <td>0.0</td>\n      <td>18.10</td>\n      <td>0.0</td>\n      <td>0.718</td>\n      <td>3.561</td>\n      <td>87.9</td>\n      <td>1.6132</td>\n      <td>24.0</td>\n      <td>666.0</td>\n      <td>20.2</td>\n      <td>354.70</td>\n      <td>7.12</td>\n    </tr>\n    <tr>\n      <th>242</th>\n      <td>0.10290</td>\n      <td>30.0</td>\n      <td>4.93</td>\n      <td>0.0</td>\n      <td>0.428</td>\n      <td>6.358</td>\n      <td>52.9</td>\n      <td>7.0355</td>\n      <td>6.0</td>\n      <td>300.0</td>\n      <td>16.6</td>\n      <td>372.75</td>\n      <td>11.22</td>\n    </tr>\n    <tr>\n      <th>461</th>\n      <td>3.69311</td>\n      <td>0.0</td>\n      <td>18.10</td>\n      <td>0.0</td>\n      <td>0.713</td>\n      <td>6.376</td>\n      <td>88.4</td>\n      <td>2.5671</td>\n      <td>24.0</td>\n      <td>666.0</td>\n      <td>20.2</td>\n      <td>391.43</td>\n      <td>14.65</td>\n    </tr>\n  </tbody>\n</table>\n</div>",
            "text/plain": "         CRIM    ZN  INDUS  CHAS    NOX     RM   AGE     DIS   RAD    TAX  \\\n435  11.16040   0.0  18.10   0.0  0.740  6.629  94.6  2.1247  24.0  666.0   \n88    0.05660   0.0   3.41   0.0  0.489  7.007  86.3  3.4217   2.0  270.0   \n365   4.55587   0.0  18.10   0.0  0.718  3.561  87.9  1.6132  24.0  666.0   \n242   0.10290  30.0   4.93   0.0  0.428  6.358  52.9  7.0355   6.0  300.0   \n461   3.69311   0.0  18.10   0.0  0.713  6.376  88.4  2.5671  24.0  666.0   \n\n     PTRATIO       B  LSTAT  \n435     20.2  109.85  23.27  \n88      17.8  396.90   5.50  \n365     20.2  354.70   7.12  \n242     16.6  372.75  11.22  \n461     20.2  391.43  14.65  "
          },
          "metadata": {}
        }
      ]
    },
    {
      "metadata": {
        "trusted": true
      },
      "cell_type": "code",
      "source": "X_train.describe()",
      "execution_count": 11,
      "outputs": [
        {
          "output_type": "execute_result",
          "execution_count": 11,
          "data": {
            "text/html": "<div>\n<style scoped>\n    .dataframe tbody tr th:only-of-type {\n        vertical-align: middle;\n    }\n\n    .dataframe tbody tr th {\n        vertical-align: top;\n    }\n\n    .dataframe thead th {\n        text-align: right;\n    }\n</style>\n<table border=\"1\" class=\"dataframe\">\n  <thead>\n    <tr style=\"text-align: right;\">\n      <th></th>\n      <th>CRIM</th>\n      <th>ZN</th>\n      <th>INDUS</th>\n      <th>CHAS</th>\n      <th>NOX</th>\n      <th>RM</th>\n      <th>AGE</th>\n      <th>DIS</th>\n      <th>RAD</th>\n      <th>TAX</th>\n      <th>PTRATIO</th>\n      <th>B</th>\n      <th>LSTAT</th>\n    </tr>\n  </thead>\n  <tbody>\n    <tr>\n      <th>count</th>\n      <td>339.000000</td>\n      <td>339.000000</td>\n      <td>339.000000</td>\n      <td>339.000000</td>\n      <td>339.000000</td>\n      <td>339.000000</td>\n      <td>339.000000</td>\n      <td>339.000000</td>\n      <td>339.000000</td>\n      <td>339.000000</td>\n      <td>339.000000</td>\n      <td>339.000000</td>\n      <td>339.000000</td>\n    </tr>\n    <tr>\n      <th>mean</th>\n      <td>3.510706</td>\n      <td>11.233038</td>\n      <td>10.946755</td>\n      <td>0.061947</td>\n      <td>0.552433</td>\n      <td>6.290059</td>\n      <td>67.433923</td>\n      <td>3.792998</td>\n      <td>9.587021</td>\n      <td>404.988201</td>\n      <td>18.456342</td>\n      <td>359.382950</td>\n      <td>12.522360</td>\n    </tr>\n    <tr>\n      <th>std</th>\n      <td>8.401706</td>\n      <td>22.390965</td>\n      <td>6.680767</td>\n      <td>0.241415</td>\n      <td>0.114991</td>\n      <td>0.698391</td>\n      <td>28.258177</td>\n      <td>2.028914</td>\n      <td>8.719865</td>\n      <td>168.415413</td>\n      <td>2.160973</td>\n      <td>87.901998</td>\n      <td>7.066379</td>\n    </tr>\n    <tr>\n      <th>min</th>\n      <td>0.010960</td>\n      <td>0.000000</td>\n      <td>1.250000</td>\n      <td>0.000000</td>\n      <td>0.385000</td>\n      <td>3.561000</td>\n      <td>2.900000</td>\n      <td>1.137000</td>\n      <td>1.000000</td>\n      <td>188.000000</td>\n      <td>12.600000</td>\n      <td>2.520000</td>\n      <td>1.730000</td>\n    </tr>\n    <tr>\n      <th>25%</th>\n      <td>0.082325</td>\n      <td>0.000000</td>\n      <td>5.130000</td>\n      <td>0.000000</td>\n      <td>0.449000</td>\n      <td>5.888500</td>\n      <td>42.500000</td>\n      <td>2.111400</td>\n      <td>4.000000</td>\n      <td>277.000000</td>\n      <td>17.400000</td>\n      <td>376.715000</td>\n      <td>6.965000</td>\n    </tr>\n    <tr>\n      <th>50%</th>\n      <td>0.253560</td>\n      <td>0.000000</td>\n      <td>8.560000</td>\n      <td>0.000000</td>\n      <td>0.524000</td>\n      <td>6.216000</td>\n      <td>76.000000</td>\n      <td>3.370000</td>\n      <td>5.000000</td>\n      <td>329.000000</td>\n      <td>19.000000</td>\n      <td>391.270000</td>\n      <td>10.970000</td>\n    </tr>\n    <tr>\n      <th>75%</th>\n      <td>3.675945</td>\n      <td>18.750000</td>\n      <td>18.100000</td>\n      <td>0.000000</td>\n      <td>0.624000</td>\n      <td>6.622000</td>\n      <td>92.750000</td>\n      <td>5.100400</td>\n      <td>24.000000</td>\n      <td>666.000000</td>\n      <td>20.200000</td>\n      <td>396.270000</td>\n      <td>16.580000</td>\n    </tr>\n    <tr>\n      <th>max</th>\n      <td>88.976200</td>\n      <td>100.000000</td>\n      <td>27.740000</td>\n      <td>1.000000</td>\n      <td>0.871000</td>\n      <td>8.780000</td>\n      <td>100.000000</td>\n      <td>10.585700</td>\n      <td>24.000000</td>\n      <td>711.000000</td>\n      <td>22.000000</td>\n      <td>396.900000</td>\n      <td>37.970000</td>\n    </tr>\n  </tbody>\n</table>\n</div>",
            "text/plain": "             CRIM          ZN       INDUS        CHAS         NOX          RM  \\\ncount  339.000000  339.000000  339.000000  339.000000  339.000000  339.000000   \nmean     3.510706   11.233038   10.946755    0.061947    0.552433    6.290059   \nstd      8.401706   22.390965    6.680767    0.241415    0.114991    0.698391   \nmin      0.010960    0.000000    1.250000    0.000000    0.385000    3.561000   \n25%      0.082325    0.000000    5.130000    0.000000    0.449000    5.888500   \n50%      0.253560    0.000000    8.560000    0.000000    0.524000    6.216000   \n75%      3.675945   18.750000   18.100000    0.000000    0.624000    6.622000   \nmax     88.976200  100.000000   27.740000    1.000000    0.871000    8.780000   \n\n              AGE         DIS         RAD         TAX     PTRATIO           B  \\\ncount  339.000000  339.000000  339.000000  339.000000  339.000000  339.000000   \nmean    67.433923    3.792998    9.587021  404.988201   18.456342  359.382950   \nstd     28.258177    2.028914    8.719865  168.415413    2.160973   87.901998   \nmin      2.900000    1.137000    1.000000  188.000000   12.600000    2.520000   \n25%     42.500000    2.111400    4.000000  277.000000   17.400000  376.715000   \n50%     76.000000    3.370000    5.000000  329.000000   19.000000  391.270000   \n75%     92.750000    5.100400   24.000000  666.000000   20.200000  396.270000   \nmax    100.000000   10.585700   24.000000  711.000000   22.000000  396.900000   \n\n            LSTAT  \ncount  339.000000  \nmean    12.522360  \nstd      7.066379  \nmin      1.730000  \n25%      6.965000  \n50%     10.970000  \n75%     16.580000  \nmax     37.970000  "
          },
          "metadata": {}
        }
      ]
    },
    {
      "metadata": {
        "trusted": true
      },
      "cell_type": "code",
      "source": "X_train.corr()",
      "execution_count": 12,
      "outputs": [
        {
          "output_type": "execute_result",
          "execution_count": 12,
          "data": {
            "text/html": "<div>\n<style scoped>\n    .dataframe tbody tr th:only-of-type {\n        vertical-align: middle;\n    }\n\n    .dataframe tbody tr th {\n        vertical-align: top;\n    }\n\n    .dataframe thead th {\n        text-align: right;\n    }\n</style>\n<table border=\"1\" class=\"dataframe\">\n  <thead>\n    <tr style=\"text-align: right;\">\n      <th></th>\n      <th>CRIM</th>\n      <th>ZN</th>\n      <th>INDUS</th>\n      <th>CHAS</th>\n      <th>NOX</th>\n      <th>RM</th>\n      <th>AGE</th>\n      <th>DIS</th>\n      <th>RAD</th>\n      <th>TAX</th>\n      <th>PTRATIO</th>\n      <th>B</th>\n      <th>LSTAT</th>\n    </tr>\n  </thead>\n  <tbody>\n    <tr>\n      <th>CRIM</th>\n      <td>1.000000</td>\n      <td>-0.204753</td>\n      <td>0.425818</td>\n      <td>-0.055235</td>\n      <td>0.434833</td>\n      <td>-0.184669</td>\n      <td>0.349918</td>\n      <td>-0.391734</td>\n      <td>0.621385</td>\n      <td>0.588851</td>\n      <td>0.288124</td>\n      <td>-0.280482</td>\n      <td>0.477819</td>\n    </tr>\n    <tr>\n      <th>ZN</th>\n      <td>-0.204753</td>\n      <td>1.000000</td>\n      <td>-0.516629</td>\n      <td>-0.041539</td>\n      <td>-0.511711</td>\n      <td>0.299813</td>\n      <td>-0.555304</td>\n      <td>0.650986</td>\n      <td>-0.316152</td>\n      <td>-0.316782</td>\n      <td>-0.363633</td>\n      <td>0.170570</td>\n      <td>-0.413617</td>\n    </tr>\n    <tr>\n      <th>INDUS</th>\n      <td>0.425818</td>\n      <td>-0.516629</td>\n      <td>1.000000</td>\n      <td>0.068071</td>\n      <td>0.760152</td>\n      <td>-0.382410</td>\n      <td>0.603696</td>\n      <td>-0.690346</td>\n      <td>0.630693</td>\n      <td>0.727890</td>\n      <td>0.372754</td>\n      <td>-0.350060</td>\n      <td>0.598210</td>\n    </tr>\n    <tr>\n      <th>CHAS</th>\n      <td>-0.055235</td>\n      <td>-0.041539</td>\n      <td>0.068071</td>\n      <td>1.000000</td>\n      <td>0.111242</td>\n      <td>0.026001</td>\n      <td>0.086862</td>\n      <td>-0.094353</td>\n      <td>-0.006082</td>\n      <td>-0.026469</td>\n      <td>-0.090075</td>\n      <td>0.055025</td>\n      <td>-0.010977</td>\n    </tr>\n    <tr>\n      <th>NOX</th>\n      <td>0.434833</td>\n      <td>-0.511711</td>\n      <td>0.760152</td>\n      <td>0.111242</td>\n      <td>1.000000</td>\n      <td>-0.295023</td>\n      <td>0.724084</td>\n      <td>-0.769641</td>\n      <td>0.644060</td>\n      <td>0.687197</td>\n      <td>0.178311</td>\n      <td>-0.326015</td>\n      <td>0.607530</td>\n    </tr>\n    <tr>\n      <th>RM</th>\n      <td>-0.184669</td>\n      <td>0.299813</td>\n      <td>-0.382410</td>\n      <td>0.026001</td>\n      <td>-0.295023</td>\n      <td>1.000000</td>\n      <td>-0.224674</td>\n      <td>0.196060</td>\n      <td>-0.207914</td>\n      <td>-0.274554</td>\n      <td>-0.346861</td>\n      <td>0.076177</td>\n      <td>-0.586907</td>\n    </tr>\n    <tr>\n      <th>AGE</th>\n      <td>0.349918</td>\n      <td>-0.555304</td>\n      <td>0.603696</td>\n      <td>0.086862</td>\n      <td>0.724084</td>\n      <td>-0.224674</td>\n      <td>1.000000</td>\n      <td>-0.733293</td>\n      <td>0.451811</td>\n      <td>0.489212</td>\n      <td>0.218967</td>\n      <td>-0.248098</td>\n      <td>0.598273</td>\n    </tr>\n    <tr>\n      <th>DIS</th>\n      <td>-0.391734</td>\n      <td>0.650986</td>\n      <td>-0.690346</td>\n      <td>-0.094353</td>\n      <td>-0.769641</td>\n      <td>0.196060</td>\n      <td>-0.733293</td>\n      <td>1.000000</td>\n      <td>-0.507179</td>\n      <td>-0.529518</td>\n      <td>-0.179850</td>\n      <td>0.278123</td>\n      <td>-0.500121</td>\n    </tr>\n    <tr>\n      <th>RAD</th>\n      <td>0.621385</td>\n      <td>-0.316152</td>\n      <td>0.630693</td>\n      <td>-0.006082</td>\n      <td>0.644060</td>\n      <td>-0.207914</td>\n      <td>0.451811</td>\n      <td>-0.507179</td>\n      <td>1.000000</td>\n      <td>0.928314</td>\n      <td>0.463551</td>\n      <td>-0.453760</td>\n      <td>0.528127</td>\n    </tr>\n    <tr>\n      <th>TAX</th>\n      <td>0.588851</td>\n      <td>-0.316782</td>\n      <td>0.727890</td>\n      <td>-0.026469</td>\n      <td>0.687197</td>\n      <td>-0.274554</td>\n      <td>0.489212</td>\n      <td>-0.529518</td>\n      <td>0.928314</td>\n      <td>1.000000</td>\n      <td>0.460019</td>\n      <td>-0.445824</td>\n      <td>0.561716</td>\n    </tr>\n    <tr>\n      <th>PTRATIO</th>\n      <td>0.288124</td>\n      <td>-0.363633</td>\n      <td>0.372754</td>\n      <td>-0.090075</td>\n      <td>0.178311</td>\n      <td>-0.346861</td>\n      <td>0.218967</td>\n      <td>-0.179850</td>\n      <td>0.463551</td>\n      <td>0.460019</td>\n      <td>1.000000</td>\n      <td>-0.200168</td>\n      <td>0.368050</td>\n    </tr>\n    <tr>\n      <th>B</th>\n      <td>-0.280482</td>\n      <td>0.170570</td>\n      <td>-0.350060</td>\n      <td>0.055025</td>\n      <td>-0.326015</td>\n      <td>0.076177</td>\n      <td>-0.248098</td>\n      <td>0.278123</td>\n      <td>-0.453760</td>\n      <td>-0.445824</td>\n      <td>-0.200168</td>\n      <td>1.000000</td>\n      <td>-0.333767</td>\n    </tr>\n    <tr>\n      <th>LSTAT</th>\n      <td>0.477819</td>\n      <td>-0.413617</td>\n      <td>0.598210</td>\n      <td>-0.010977</td>\n      <td>0.607530</td>\n      <td>-0.586907</td>\n      <td>0.598273</td>\n      <td>-0.500121</td>\n      <td>0.528127</td>\n      <td>0.561716</td>\n      <td>0.368050</td>\n      <td>-0.333767</td>\n      <td>1.000000</td>\n    </tr>\n  </tbody>\n</table>\n</div>",
            "text/plain": "             CRIM        ZN     INDUS      CHAS       NOX        RM       AGE  \\\nCRIM     1.000000 -0.204753  0.425818 -0.055235  0.434833 -0.184669  0.349918   \nZN      -0.204753  1.000000 -0.516629 -0.041539 -0.511711  0.299813 -0.555304   \nINDUS    0.425818 -0.516629  1.000000  0.068071  0.760152 -0.382410  0.603696   \nCHAS    -0.055235 -0.041539  0.068071  1.000000  0.111242  0.026001  0.086862   \nNOX      0.434833 -0.511711  0.760152  0.111242  1.000000 -0.295023  0.724084   \nRM      -0.184669  0.299813 -0.382410  0.026001 -0.295023  1.000000 -0.224674   \nAGE      0.349918 -0.555304  0.603696  0.086862  0.724084 -0.224674  1.000000   \nDIS     -0.391734  0.650986 -0.690346 -0.094353 -0.769641  0.196060 -0.733293   \nRAD      0.621385 -0.316152  0.630693 -0.006082  0.644060 -0.207914  0.451811   \nTAX      0.588851 -0.316782  0.727890 -0.026469  0.687197 -0.274554  0.489212   \nPTRATIO  0.288124 -0.363633  0.372754 -0.090075  0.178311 -0.346861  0.218967   \nB       -0.280482  0.170570 -0.350060  0.055025 -0.326015  0.076177 -0.248098   \nLSTAT    0.477819 -0.413617  0.598210 -0.010977  0.607530 -0.586907  0.598273   \n\n              DIS       RAD       TAX   PTRATIO         B     LSTAT  \nCRIM    -0.391734  0.621385  0.588851  0.288124 -0.280482  0.477819  \nZN       0.650986 -0.316152 -0.316782 -0.363633  0.170570 -0.413617  \nINDUS   -0.690346  0.630693  0.727890  0.372754 -0.350060  0.598210  \nCHAS    -0.094353 -0.006082 -0.026469 -0.090075  0.055025 -0.010977  \nNOX     -0.769641  0.644060  0.687197  0.178311 -0.326015  0.607530  \nRM       0.196060 -0.207914 -0.274554 -0.346861  0.076177 -0.586907  \nAGE     -0.733293  0.451811  0.489212  0.218967 -0.248098  0.598273  \nDIS      1.000000 -0.507179 -0.529518 -0.179850  0.278123 -0.500121  \nRAD     -0.507179  1.000000  0.928314  0.463551 -0.453760  0.528127  \nTAX     -0.529518  0.928314  1.000000  0.460019 -0.445824  0.561716  \nPTRATIO -0.179850  0.463551  0.460019  1.000000 -0.200168  0.368050  \nB        0.278123 -0.453760 -0.445824 -0.200168  1.000000 -0.333767  \nLSTAT   -0.500121  0.528127  0.561716  0.368050 -0.333767  1.000000  "
          },
          "metadata": {}
        }
      ]
    },
    {
      "metadata": {
        "trusted": true
      },
      "cell_type": "code",
      "source": "lm = LinearRegression()\nlm.fit(X_train, Y_train)",
      "execution_count": 13,
      "outputs": [
        {
          "output_type": "execute_result",
          "execution_count": 13,
          "data": {
            "text/plain": "LinearRegression(copy_X=True, fit_intercept=True, n_jobs=None,\n         normalize=False)"
          },
          "metadata": {}
        }
      ]
    },
    {
      "metadata": {
        "trusted": true
      },
      "cell_type": "code",
      "source": "Y_pred = lm.predict(X_test)\nplt.scatter(Y_test, Y_pred)\nplt.xlabel(\"Prices: $Y_i$\")\nplt.ylabel(\"Predicted prices: $\\hat{Y}_i$\")\nplt.title(\"Prices vs Predicted prices: $Y_i$ vs $\\hat{Y}_i$\")\nplt.show()",
      "execution_count": 14,
      "outputs": [
        {
          "output_type": "display_data",
          "data": {
            "image/png": "[encoded data removed]",
            "text/plain": "<Figure size 432x288 with 1 Axes>"
          },
          "metadata": {
            "needs_background": "light"
          }
        }
      ]
    },
    {
      "metadata": {
        "trusted": true
      },
      "cell_type": "code",
      "source": "# The coefficients\nprint('Coefficients: \\n', lm.coef_)",
      "execution_count": 20,
      "outputs": [
        {
          "output_type": "stream",
          "text": "Coefficients: \n [-1.56381297e-01  3.85490972e-02 -2.50629921e-02  7.86439684e-01\n -1.29469121e+01  4.00268857e+00 -1.16023395e-02 -1.36828811e+00\n  3.41756915e-01 -1.35148823e-02 -9.88866034e-01  1.20588215e-02\n -4.72644280e-01]\n",
          "name": "stdout"
        }
      ]
    },
    {
      "metadata": {},
      "cell_type": "markdown",
      "source": "### Let's register the ML model"
    },
    {
      "metadata": {
        "trusted": true
      },
      "cell_type": "code",
      "source": "model_file_name = 'boston_model.pkl'\njoblib.dump(value = lm, filename = model_file_name)\n\nregistered_trained_model = Model.register(workspace=ws, model_path=model_file_name, model_name=model_file_name)",
      "execution_count": 21,
      "outputs": [
        {
          "output_type": "stream",
          "text": "Registering model boston_model.pkl\n",
          "name": "stdout"
        }
      ]
    },
    {
      "metadata": {},
      "cell_type": "markdown",
      "source": "## 4. Let's deploy the model to ACI"
    },
    {
      "metadata": {},
      "cell_type": "markdown",
      "source": "### 4.1 Generating the scoring file"
    },
    {
      "metadata": {
        "trusted": true
      },
      "cell_type": "code",
      "source": "%%writefile score.py\nimport pickle\nimport json\nimport numpy as np\nfrom sklearn.externals import joblib\nfrom sklearn.linear_model import LinearRegression\nfrom azureml.core.model import Model\n\nfrom inference_schema.schema_decorators import input_schema, output_schema\nfrom inference_schema.parameter_types.numpy_parameter_type import NumpyParameterType\n\ndef init():\n    global model\n    # note here \"sklearn_regression_model.pkl\" is the name of the model registered under\n    # this is a different behavior than before when the code is run locally, even though the code is the same.\n    model_path = Model.get_model_path('boston_model.pkl')\n    # deserialize the model file back into a sklearn model\n    model = joblib.load(model_path)\n\ninput_sample = np.array([[0.00632, 18.0, 2.31, 0.0, 0.538, 6.575, 65.2, 4.09, 1.0, 296.0, 15.3, 396.9, 4.98]])\noutput_sample = np.array([3726.995])\n\n@input_schema('data', NumpyParameterType(input_sample))\n@output_schema(NumpyParameterType(output_sample))\ndef run(data):\n    try:\n        result = model.predict(data)\n        # you can return any datatype as long as it is JSON-serializable\n        return result.tolist()[0]\n    except Exception as e:\n        error = str(e)\n        return error",
      "execution_count": 22,
      "outputs": [
        {
          "output_type": "stream",
          "text": "Overwriting score.py\n",
          "name": "stdout"
        }
      ]
    },
    {
      "metadata": {},
      "cell_type": "markdown",
      "source": "### 4.2 Environment file"
    },
    {
      "metadata": {
        "trusted": true
      },
      "cell_type": "code",
      "source": "%%writefile myenv.yml\nname: project_environment\ndependencies:\n  - python=3.6.2\n  - pip:\n    - azureml-defaults\n    - scikit-learn\n    - numpy\n    - pyspark\n    - inference-schema[numpy-support]",
      "execution_count": 23,
      "outputs": [
        {
          "output_type": "stream",
          "text": "Overwriting myenv.yml\n",
          "name": "stdout"
        }
      ]
    },
    {
      "metadata": {
        "trusted": true
      },
      "cell_type": "code",
      "source": "env = Environment.from_conda_specification(name='deploytocloudenv', file_path='myenv.yml')\ninference_config = InferenceConfig(entry_script=\"score.py\", environment=env)",
      "execution_count": 24,
      "outputs": []
    },
    {
      "metadata": {},
      "cell_type": "markdown",
      "source": "### 4.3 Deploying the ML model to ACI (Azure Container Instance)"
    },
    {
      "metadata": {
        "trusted": true
      },
      "cell_type": "code",
      "source": "%%time\nfrom azureml.core.webservice import AciWebservice, Webservice\nfrom azureml.exceptions import WebserviceException\n\ndeployment_config = AciWebservice.deploy_configuration(cpu_cores=1, memory_gb=1)\naci_service_name = 'bostonhouseprice'\n\ntry:\n    # if you want to get existing service below is the command\n    # since aci name needs to be unique in subscription deleting existing aci if any\n    # we use aci_service_name to create azure aci\n    service = Webservice(ws, name=aci_service_name)\n    if service:\n        service.delete()\nexcept WebserviceException as e:\n    print()\n\nservice = Model.deploy(ws, aci_service_name, [registered_trained_model], inference_config, deployment_config)\n\nservice.wait_for_deployment(True)\nprint(service.state)",
      "execution_count": 29,
      "outputs": [
        {
          "output_type": "stream",
          "text": "Running.........................\nSucceededACI service creation operation finished, operation \"Succeeded\"\nHealthy\nCPU times: user 490 ms, sys: 105 ms, total: 595 ms\nWall time: 2min 23s\n",
          "name": "stdout"
        }
      ]
    },
    {
      "metadata": {},
      "cell_type": "markdown",
      "source": "## 5. Testing"
    },
    {
      "metadata": {},
      "cell_type": "markdown",
      "source": "### 5.1 Generating the input data into a JSON file"
    },
    {
      "metadata": {
        "trusted": true
      },
      "cell_type": "code",
      "source": "import json\ntest_sample = json.dumps({'data': [\n    [0.00632,18.0,2.31,0.0,0.538,6.575,65.2,4.0900,1.0,296.0,15.3,396.90,4.98]]})",
      "execution_count": 30,
      "outputs": []
    },
    {
      "metadata": {
        "trusted": true
      },
      "cell_type": "code",
      "source": "test_sample",
      "execution_count": 31,
      "outputs": [
        {
          "output_type": "execute_result",
          "execution_count": 31,
          "data": {
            "text/plain": "'{\"data\": [[0.00632, 18.0, 2.31, 0.0, 0.538, 6.575, 65.2, 4.09, 1.0, 296.0, 15.3, 396.9, 4.98]]}'"
          },
          "metadata": {}
        }
      ]
    },
    {
      "metadata": {},
      "cell_type": "markdown",
      "source": "### 5.2 Scoring endpoint (to use later in the Excel file)"
    },
    {
      "metadata": {
        "trusted": true
      },
      "cell_type": "code",
      "source": "service.scoring_uri",
      "execution_count": 32,
      "outputs": [
        {
          "output_type": "execute_result",
          "execution_count": 32,
          "data": {
            "text/plain": "'http://5256a54c-20ec-49fb-bdf7-6aaa95a9fd22.westeurope.azurecontainer.io/score'"
          },
          "metadata": {}
        }
      ]
    },
    {
      "metadata": {},
      "cell_type": "markdown",
      "source": "### 5.3 Let's test"
    },
    {
      "metadata": {
        "trusted": true
      },
      "cell_type": "code",
      "source": "test_sample_encoded = bytes(test_sample, encoding='utf8')\n\nprint(\"Input data: \")\nprint(test_sample_encoded)\nprediction = service.run(input_data=test_sample_encoded)\nprint()\nprint(\"Model prediction = \", prediction)",
      "execution_count": 33,
      "outputs": [
        {
          "output_type": "stream",
          "text": "Input data: \nb'{\"data\": [[0.00632, 18.0, 2.31, 0.0, 0.538, 6.575, 65.2, 4.09, 1.0, 296.0, 15.3, 396.9, 4.98]]}'\n\nModel prediction =  30.137479432585813\n",
          "name": "stdout"
        }
      ]
    },
    {
      "metadata": {},
      "cell_type": "markdown",
      "source": "### Second test"
    },
    {
      "metadata": {
        "trusted": true
      },
      "cell_type": "code",
      "source": "import json\ntest_sample2 = json.dumps({'data': [\n    [0.00432,16.0,1.1,0.12,0.422,6.75,65.2,4.0900,1.0,296.0,16.3,496.90,6.8]]})",
      "execution_count": 39,
      "outputs": []
    },
    {
      "metadata": {
        "trusted": true
      },
      "cell_type": "code",
      "source": "test_sample_encoded = bytes(test_sample2, encoding='utf8')\n\nprint(\"Input data: \")\nprint(test_sample_encoded)\nprediction = service.run(input_data=test_sample_encoded)\nprint()\nprint(\"Model prediction = \", prediction)",
      "execution_count": 40,
      "outputs": [
        {
          "output_type": "stream",
          "text": "Input data: \nb'{\"data\": [[0.00432, 16.0, 1.1, 0.12, 0.422, 6.75, 65.2, 4.09, 1.0, 296.0, 16.3, 496.9, 6.8]]}'\n\nModel prediction =  31.744508810239935\n",
          "name": "stdout"
        }
      ]
    },
    {
      "metadata": {},
      "cell_type": "markdown",
      "source": "> End"
    }
  ],
  "metadata": {
    "kernelspec": {
      "name": "python36",
      "display_name": "Python 3.6",
      "language": "python"
    },
    "language_info": {
      "mimetype": "text/x-python",
      "nbconvert_exporter": "python",
      "name": "python",
      "pygments_lexer": "ipython3",
      "version": "3.6.6",
      "file_extension": ".py",
      "codemirror_mode": {
        "version": 3,
        "name": "ipython"
      }
    }
  },
  "nbformat": 4,
  "nbformat_minor": 2
}